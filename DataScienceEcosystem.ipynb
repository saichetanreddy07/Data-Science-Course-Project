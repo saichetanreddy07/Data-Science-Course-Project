{
 "cells": [
  {
   "cell_type": "markdown",
   "id": "5f9cd2f2-4fbd-4f4d-b613-c5df829e64de",
   "metadata": {},
   "source": [
    "# Data Science Tools and Ecosystem"
   ]
  },
  {
   "cell_type": "markdown",
   "id": "791f93f5-c756-469d-affb-3da1f1e8cf14",
   "metadata": {},
   "source": [
    "In this notebook, Data Science Tools and Ecosystem are summarized."
   ]
  },
  {
   "cell_type": "markdown",
   "id": "35fc28f2-7783-443c-ba01-fb38332dc7fd",
   "metadata": {},
   "source": [
    "Some of the popular languages that Data Scientists use are:\n",
    "1. Python\n",
    "2. R\n",
    "3. SQL\n",
    "4. Java\n",
    "5. C++"
   ]
  },
  {
   "cell_type": "markdown",
   "id": "1cc1e4a8-9e86-4e86-9e57-94cd4ede3ee8",
   "metadata": {},
   "source": [
    "Some of the commonly used libraries used by Data Scientists include:\n",
    "1. TensorFlow\n",
    "2. Numpy\n",
    "3. SciPy\n",
    "4. Pandas\n",
    "5. Matplotlib\n",
    "6. Keras\n",
    "7. Scikit-Learn\n",
    "8. Pytorch etc...."
   ]
  },
  {
   "cell_type": "markdown",
   "id": "97a099e0-14d3-4211-a62d-f787ab9b72dc",
   "metadata": {},
   "source": [
    "|Data Science Tool\n",
    "|---|\n",
    "|Apache Hadoop|\n",
    "|SAAS|\n",
    "|TensorFlow|"
   ]
  },
  {
   "cell_type": "markdown",
   "id": "3b481a1b-33df-4565-b699-0c448bb57cdd",
   "metadata": {},
   "source": [
    "### Below are a few examples of evaluating arithmetic expressions in Python"
   ]
  },
  {
   "cell_type": "code",
   "execution_count": 1,
   "id": "f446e201-ed86-4508-a17f-3020db2fd5b2",
   "metadata": {},
   "outputs": [
    {
     "data": {
      "text/plain": [
       "17"
      ]
     },
     "execution_count": 1,
     "metadata": {},
     "output_type": "execute_result"
    }
   ],
   "source": [
    "#This a simple arithmetic expression to mutiply then add integers\n",
    "(3*4)+5"
   ]
  },
  {
   "cell_type": "code",
   "execution_count": 2,
   "id": "9d96b607-47e1-40a7-93b3-2bade1d89fd1",
   "metadata": {},
   "outputs": [
    {
     "data": {
      "text/plain": [
       "3.3333333333333335"
      ]
     },
     "execution_count": 2,
     "metadata": {},
     "output_type": "execute_result"
    }
   ],
   "source": [
    "#This will convert 200 minutes to hours by diving by 60\n",
    "200/60"
   ]
  },
  {
   "cell_type": "markdown",
   "id": "c900f577-fe8b-4c65-a18c-672e0f58dbb7",
   "metadata": {},
   "source": [
    "__Objective__\n",
    "* List of Popular Languages for Data Science\n",
    "* List of Popular Libraries for Data Science\n",
    "* List of well known tools for Data Science\n",
    "* How to provide comments in a cell"
   ]
  },
  {
   "cell_type": "markdown",
   "id": "e4ae8ec6-4e00-4b15-bd83-76a959dd3c7a",
   "metadata": {},
   "source": [
    "## Author\n",
    "\n",
    "Sai Chetan Reddy"
   ]
  }
 ],
 "metadata": {
  "kernelspec": {
   "display_name": "Python 3 (ipykernel)",
   "language": "python",
   "name": "python3"
  },
  "language_info": {
   "codemirror_mode": {
    "name": "ipython",
    "version": 3
   },
   "file_extension": ".py",
   "mimetype": "text/x-python",
   "name": "python",
   "nbconvert_exporter": "python",
   "pygments_lexer": "ipython3",
   "version": "3.12.0"
  }
 },
 "nbformat": 4,
 "nbformat_minor": 5
}
